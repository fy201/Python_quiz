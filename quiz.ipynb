{
 "cells": [
  {
   "cell_type": "code",
   "execution_count": 9,
   "id": "347abbd3-c582-4dd3-94d1-e94d64c5f27d",
   "metadata": {},
   "outputs": [
    {
     "name": "stdout",
     "output_type": "stream",
     "text": [
      "What is the capital of France?\n",
      "A) London\n",
      "B) Berlin\n",
      "C) Paris\n",
      "D) Madrid\n"
     ]
    },
    {
     "name": "stdin",
     "output_type": "stream",
     "text": [
      "type the correct answer here c\n"
     ]
    },
    {
     "name": "stdout",
     "output_type": "stream",
     "text": [
      "your are correct!!\n",
      "\n",
      "Which planet is known as the Red Planet?\n",
      "A) Venus\n",
      "B) Mars\n",
      "C) Jupiter\n",
      "D) Saturn\n"
     ]
    },
    {
     "name": "stdin",
     "output_type": "stream",
     "text": [
      "type the correct answer here a\n"
     ]
    },
    {
     "name": "stdout",
     "output_type": "stream",
     "text": [
      "wrong looser, the correct answer is B \n",
      "\n",
      "Who painted the Mona Lisa?\n",
      "A) Vincent van Gogh\n",
      "B) Pablo Picasso\n",
      "C) Leonardo da Vinci\n",
      "D) Michelangelo\n"
     ]
    },
    {
     "name": "stdin",
     "output_type": "stream",
     "text": [
      "type the correct answer here c\n"
     ]
    },
    {
     "name": "stdout",
     "output_type": "stream",
     "text": [
      "your are correct!!\n",
      "\n",
      "What is the chemical symbol for gold?\n",
      "A) Ag\n",
      "B) Fe\n",
      "C) Au\n",
      "D) Cu\n"
     ]
    },
    {
     "name": "stdin",
     "output_type": "stream",
     "text": [
      "type the correct answer here c\n"
     ]
    },
    {
     "name": "stdout",
     "output_type": "stream",
     "text": [
      "your are correct!!\n",
      "\n",
      "Which country is home to the Great Barrier Reef?\n",
      "A) Brazil\n",
      "B) Indonesia\n",
      "C) Australia\n",
      "D) Mexico\n"
     ]
    },
    {
     "name": "stdin",
     "output_type": "stream",
     "text": [
      "type the correct answer here c\n"
     ]
    },
    {
     "name": "stdout",
     "output_type": "stream",
     "text": [
      "your are correct!!\n",
      "\n",
      "Who wrote the play \"Romeo and Juliet\"?\n",
      "A) Charles Dickens\n",
      "B) William Shakespeare\n",
      "C) Jane Austen\n",
      "D) Mark Twain\n"
     ]
    },
    {
     "name": "stdin",
     "output_type": "stream",
     "text": [
      "type the correct answer here b\n"
     ]
    },
    {
     "name": "stdout",
     "output_type": "stream",
     "text": [
      "your are correct!!\n",
      "\n",
      "What is the largest mammal in the world?\n",
      "A) African elephant\n",
      "B) Blue whale\n",
      "C) Giraffe\n",
      "D) Polar bear\n"
     ]
    },
    {
     "name": "stdin",
     "output_type": "stream",
     "text": [
      "type the correct answer here b\n"
     ]
    },
    {
     "name": "stdout",
     "output_type": "stream",
     "text": [
      "your are correct!!\n",
      "\n",
      "In which year did World War II end?\n",
      "A) 1939\n",
      "B) 1942\n",
      "C) 1945\n",
      "D) 1950\n"
     ]
    },
    {
     "name": "stdin",
     "output_type": "stream",
     "text": [
      "type the correct answer here b\n"
     ]
    },
    {
     "name": "stdout",
     "output_type": "stream",
     "text": [
      "wrong looser, the correct answer is C \n",
      "\n",
      "What is the main ingredient in guacamole?\n",
      "A) Tomato\n",
      "B) Avocado\n",
      "C) Onion\n",
      "D) Lime\n"
     ]
    },
    {
     "name": "stdin",
     "output_type": "stream",
     "text": [
      "type the correct answer here b\n"
     ]
    },
    {
     "name": "stdout",
     "output_type": "stream",
     "text": [
      "your are correct!!\n",
      "\n",
      "Which element has the atomic number 1?\n",
      "A) Helium\n",
      "B) Carbon\n",
      "C) Oxygen\n",
      "D) Hydrogen\n"
     ]
    },
    {
     "name": "stdin",
     "output_type": "stream",
     "text": [
      "type the correct answer here d\n"
     ]
    },
    {
     "name": "stdout",
     "output_type": "stream",
     "text": [
      "your are correct!!\n",
      "\n",
      "you got 8 out of 10 questions correct\n"
     ]
    }
   ],
   "source": [
    "Questions = [\n",
    "    {\n",
    "        \"prompt\": \"What is the capital of France?\",\n",
    "        \"options\": [\"A) London\", \"B) Berlin\", \"C) Paris\", \"D) Madrid\"],\n",
    "        \"correct_answer\": \"C\"\n",
    "    },\n",
    "    {\n",
    "        \"prompt\": \"Which planet is known as the Red Planet?\",\n",
    "        \"options\": [\"A) Venus\", \"B) Mars\", \"C) Jupiter\", \"D) Saturn\"],\n",
    "        \"correct_answer\": \"B\"\n",
    "    },\n",
    "    {\n",
    "        \"prompt\": \"Who painted the Mona Lisa?\",\n",
    "        \"options\": [\"A) Vincent van Gogh\", \"B) Pablo Picasso\", \"C) Leonardo da Vinci\", \"D) Michelangelo\"],\n",
    "        \"correct_answer\": \"C\"\n",
    "    },\n",
    "    {\n",
    "        \"prompt\": \"What is the chemical symbol for gold?\",\n",
    "        \"options\": [\"A) Ag\", \"B) Fe\", \"C) Au\", \"D) Cu\"],\n",
    "        \"correct_answer\": \"C\"\n",
    "    },\n",
    "    {\n",
    "        \"prompt\": \"Which country is home to the Great Barrier Reef?\",\n",
    "        \"options\": [\"A) Brazil\", \"B) Indonesia\", \"C) Australia\", \"D) Mexico\"],\n",
    "        \"correct_answer\": \"C\"\n",
    "    },\n",
    "    {\n",
    "        \"prompt\": \"Who wrote the play \\\"Romeo and Juliet\\\"?\",\n",
    "        \"options\": [\"A) Charles Dickens\", \"B) William Shakespeare\", \"C) Jane Austen\", \"D) Mark Twain\"],\n",
    "        \"correct_answer\": \"B\"\n",
    "    },\n",
    "    {\n",
    "        \"prompt\": \"What is the largest mammal in the world?\",\n",
    "        \"options\": [\"A) African elephant\", \"B) Blue whale\", \"C) Giraffe\", \"D) Polar bear\"],\n",
    "        \"correct_answer\": \"B\"\n",
    "    },\n",
    "    {\n",
    "        \"prompt\": \"In which year did World War II end?\",\n",
    "        \"options\": [\"A) 1939\", \"B) 1942\", \"C) 1945\", \"D) 1950\"],\n",
    "        \"correct_answer\": \"C\"\n",
    "    },\n",
    "    {\n",
    "        \"prompt\": \"What is the main ingredient in guacamole?\",\n",
    "        \"options\": [\"A) Tomato\", \"B) Avocado\", \"C) Onion\", \"D) Lime\"],\n",
    "        \"correct_answer\": \"B\"\n",
    "    },\n",
    "    {\n",
    "        \"prompt\": \"Which element has the atomic number 1?\",\n",
    "        \"options\": [\"A) Helium\", \"B) Carbon\", \"C) Oxygen\", \"D) Hydrogen\"],\n",
    "        \"correct_answer\": \"D\"\n",
    "    }\n",
    "]\n",
    "def run_quiz(Questions):\n",
    "     score=0\n",
    "     for question in Questions:\n",
    "         print(question[\"prompt\"])\n",
    "         for option in question[\"options\"]:\n",
    "          print(option)\n",
    "         answer = input(\"type the correct answer here\").upper()\n",
    "         if answer == question[\"correct_answer\"]:\n",
    "          print(\"your are correct!!\\n\")\n",
    "          score +=1\n",
    "         else:\n",
    "            print(\"wrong looser, the correct answer is\", question[\"correct_answer\"],\"\\n\")\n",
    "     print(f\"you got {score} out of {len(Questions)} questions correct\")\n",
    "\n",
    "run_quiz(Questions)"
   ]
  },
  {
   "cell_type": "code",
   "execution_count": null,
   "id": "d44c812f-85fc-4612-b725-64618045c50d",
   "metadata": {},
   "outputs": [],
   "source": []
  }
 ],
 "metadata": {
  "kernelspec": {
   "display_name": "Python 3 (ipykernel)",
   "language": "python",
   "name": "python3"
  },
  "language_info": {
   "codemirror_mode": {
    "name": "ipython",
    "version": 3
   },
   "file_extension": ".py",
   "mimetype": "text/x-python",
   "name": "python",
   "nbconvert_exporter": "python",
   "pygments_lexer": "ipython3",
   "version": "3.12.4"
  }
 },
 "nbformat": 4,
 "nbformat_minor": 5
}
